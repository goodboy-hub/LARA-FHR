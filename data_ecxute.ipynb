{
 "cells": [
  {
   "cell_type": "code",
   "execution_count": 1,
   "metadata": {},
   "outputs": [],
   "source": [
    "import tqdm\n",
    "import sklearn\n",
    "import numpy as np\n",
    "import pandas as pd\n",
    "import pyedflib"
   ]
  },
  {
   "cell_type": "code",
   "execution_count": null,
   "metadata": {},
   "outputs": [],
   "source": [
    "\"\"\"\n",
    "明确一下任务：\n",
    "1.对visit1的前3000条数据进行清洗\n",
    "1.1把wake的ECG数据拿出来,对长度进行观察并进行取舍，最好能决定最终用多长的片段并且给它切好\n",
    "1.2把表中每个患者的AHI拿出来，根据某一个界限标准将人的症状二分类\n",
    "    **关键在于找到具有说服力的标准，AASM\n",
    "    1.2首先先把那个AASM的文章看了\n",
    "\n",
    "2.胎心数据那个把异常数据的情况搞清楚，可视化一下，方便问就行\n",
    "\n",
    "##但是其实如果能识别呼吸暂停和低通气这两个事件不是更好吗，但你要注意，呼吸暂停和低通气是睡眠中的事件，而你现在要做的是利用\n",
    "睡前的ECG也就是根本不存在这些事件的ECG对患者症状轻重进行预测，而我们相信这个预测可以成功的基础在于患有OSA的ECG数据会在睡前表现出\n",
    "一些目前无法被现代医学识别的特征，所以你的模型其实是在识别这些新的，未被发现的特征，所以只能用端对端的方式进行训练，也就是说，我们必须\n",
    "根据AHI指数或者别的什么将患者进行分类，而比较有说服力的分类自然是采用官方的分类，因此本身标准是什么并不重要，重要的是得有一个标准。\n",
    "\n",
    "##那这样的话会有问题，二分类是不是一个好的分类，将连续性变量转成离散型变量，恐怕二分类并不是好的分类，那能否这么干，将target就设成AHI\n",
    "，我们不去做离散变量的分类，我们去拟合到AHI上，最后进行预测的时候加个输出层就好了，那其实那这个思路可以训练多个模型拟合到不同的参数上\n",
    "最后对这些参数进行一个全连接输出。可是难道直接二分类的模型算法本身不会学到这些吗，理论上如果假设算法模型的功能无限强，甚至可能端对端的\n",
    "效果要好于教授学习的效果，因为你无法保证计算机是不是在这个过程中还发现了人没有发现的特征。\n",
    "\n",
    "这是一个很难想出来的问题，直观感觉上好像拟合AHI跟合理，或者说这个任务逻辑性更清晰，更好学习。但直接端对端你算法强了好像也无妨。不妨两个\n",
    "都试试\n",
    "\"\"\""
   ]
  },
  {
   "cell_type": "code",
   "execution_count": 2,
   "metadata": {},
   "outputs": [],
   "source": [
    "data_summary_visit1=pd.read_csv('/data/0shared/linzenghui/numom2b/datasets/numom-visit1-dataset-0.3.1.csv')\n",
    "#data_summary_visit3=pd.read_csv('/data/0shared/linzenghui/numom2b/datasets/numom-visit3-dataset-0.3.1.csv')"
   ]
  },
  {
   "cell_type": "code",
   "execution_count": 3,
   "metadata": {},
   "outputs": [
    {
     "data": {
      "text/html": [
       "<div>\n",
       "<style scoped>\n",
       "    .dataframe tbody tr th:only-of-type {\n",
       "        vertical-align: middle;\n",
       "    }\n",
       "\n",
       "    .dataframe tbody tr th {\n",
       "        vertical-align: top;\n",
       "    }\n",
       "\n",
       "    .dataframe thead th {\n",
       "        text-align: right;\n",
       "    }\n",
       "</style>\n",
       "<table border=\"1\" class=\"dataframe\">\n",
       "  <thead>\n",
       "    <tr style=\"text-align: right;\">\n",
       "      <th></th>\n",
       "      <th>publicid</th>\n",
       "      <th>stdyvis</th>\n",
       "      <th>crace</th>\n",
       "      <th>age_at_stdydt</th>\n",
       "      <th>ga_at_stdydt</th>\n",
       "      <th>height</th>\n",
       "      <th>weight</th>\n",
       "      <th>bmi</th>\n",
       "      <th>stdytype_f1t3</th>\n",
       "      <th>unitid_f1t3</th>\n",
       "      <th>...</th>\n",
       "      <th>pctdursp_salt75_f1t3</th>\n",
       "      <th>ahi_ap0nhp3x5x4nhp5x3n_f1t3</th>\n",
       "      <th>ahi_ap0nhp3x3n_f1t3</th>\n",
       "      <th>ahi_ap0nhp3x4n_f1t3</th>\n",
       "      <th>pctdursp_ap0n_f1t3</th>\n",
       "      <th>pctdursp_hp3x0n_f1t3</th>\n",
       "      <th>pctdursp_ap3nhp3x3n_f1t3</th>\n",
       "      <th>maxdurap_hp3x0n_f1t3</th>\n",
       "      <th>avgdurhp_hp3x0n_f1t3</th>\n",
       "      <th>avgspo2baseline_f1t3</th>\n",
       "    </tr>\n",
       "  </thead>\n",
       "  <tbody>\n",
       "    <tr>\n",
       "      <th>0</th>\n",
       "      <td>00001U</td>\n",
       "      <td>1</td>\n",
       "      <td>3</td>\n",
       "      <td>29</td>\n",
       "      <td>12.000000</td>\n",
       "      <td>154.9</td>\n",
       "      <td>69.399633</td>\n",
       "      <td>28.923732</td>\n",
       "      <td>1</td>\n",
       "      <td>125</td>\n",
       "      <td>...</td>\n",
       "      <td>0.0</td>\n",
       "      <td>0.00</td>\n",
       "      <td>0.18</td>\n",
       "      <td>0.00</td>\n",
       "      <td>0.00</td>\n",
       "      <td>0.07</td>\n",
       "      <td>0.07</td>\n",
       "      <td>15.0</td>\n",
       "      <td>15.00</td>\n",
       "      <td>97.1967</td>\n",
       "    </tr>\n",
       "    <tr>\n",
       "      <th>1</th>\n",
       "      <td>00004O</td>\n",
       "      <td>1</td>\n",
       "      <td>3</td>\n",
       "      <td>21</td>\n",
       "      <td>12.285714</td>\n",
       "      <td>167.0</td>\n",
       "      <td>66.678078</td>\n",
       "      <td>23.908379</td>\n",
       "      <td>1</td>\n",
       "      <td>410</td>\n",
       "      <td>...</td>\n",
       "      <td>0.0</td>\n",
       "      <td>0.14</td>\n",
       "      <td>0.14</td>\n",
       "      <td>0.14</td>\n",
       "      <td>0.05</td>\n",
       "      <td>2.65</td>\n",
       "      <td>0.00</td>\n",
       "      <td>23.0</td>\n",
       "      <td>12.18</td>\n",
       "      <td>95.5082</td>\n",
       "    </tr>\n",
       "    <tr>\n",
       "      <th>2</th>\n",
       "      <td>00008G</td>\n",
       "      <td>1</td>\n",
       "      <td>1</td>\n",
       "      <td>30</td>\n",
       "      <td>11.142857</td>\n",
       "      <td>175.0</td>\n",
       "      <td>83.914588</td>\n",
       "      <td>27.400682</td>\n",
       "      <td>1</td>\n",
       "      <td>55</td>\n",
       "      <td>...</td>\n",
       "      <td>0.0</td>\n",
       "      <td>0.66</td>\n",
       "      <td>1.10</td>\n",
       "      <td>0.66</td>\n",
       "      <td>0.00</td>\n",
       "      <td>3.93</td>\n",
       "      <td>0.48</td>\n",
       "      <td>37.0</td>\n",
       "      <td>14.24</td>\n",
       "      <td>95.5246</td>\n",
       "    </tr>\n",
       "    <tr>\n",
       "      <th>3</th>\n",
       "      <td>00022M</td>\n",
       "      <td>1</td>\n",
       "      <td>3</td>\n",
       "      <td>22</td>\n",
       "      <td>12.857143</td>\n",
       "      <td>158.5</td>\n",
       "      <td>53.100000</td>\n",
       "      <td>21.136642</td>\n",
       "      <td>1</td>\n",
       "      <td>72</td>\n",
       "      <td>...</td>\n",
       "      <td>0.0</td>\n",
       "      <td>0.13</td>\n",
       "      <td>0.13</td>\n",
       "      <td>0.13</td>\n",
       "      <td>0.04</td>\n",
       "      <td>0.78</td>\n",
       "      <td>0.00</td>\n",
       "      <td>21.0</td>\n",
       "      <td>13.19</td>\n",
       "      <td>97.0000</td>\n",
       "    </tr>\n",
       "    <tr>\n",
       "      <th>4</th>\n",
       "      <td>00023K</td>\n",
       "      <td>1</td>\n",
       "      <td>1</td>\n",
       "      <td>20</td>\n",
       "      <td>13.571429</td>\n",
       "      <td>165.4</td>\n",
       "      <td>90.400000</td>\n",
       "      <td>33.044366</td>\n",
       "      <td>1</td>\n",
       "      <td>123</td>\n",
       "      <td>...</td>\n",
       "      <td>0.0</td>\n",
       "      <td>0.35</td>\n",
       "      <td>0.52</td>\n",
       "      <td>0.00</td>\n",
       "      <td>0.00</td>\n",
       "      <td>2.17</td>\n",
       "      <td>0.23</td>\n",
       "      <td>60.0</td>\n",
       "      <td>16.67</td>\n",
       "      <td>96.0984</td>\n",
       "    </tr>\n",
       "  </tbody>\n",
       "</table>\n",
       "<p>5 rows × 383 columns</p>\n",
       "</div>"
      ],
      "text/plain": [
       "  publicid  stdyvis  crace  age_at_stdydt  ga_at_stdydt  height     weight  \\\n",
       "0   00001U        1      3             29     12.000000   154.9  69.399633   \n",
       "1   00004O        1      3             21     12.285714   167.0  66.678078   \n",
       "2   00008G        1      1             30     11.142857   175.0  83.914588   \n",
       "3   00022M        1      3             22     12.857143   158.5  53.100000   \n",
       "4   00023K        1      1             20     13.571429   165.4  90.400000   \n",
       "\n",
       "         bmi  stdytype_f1t3  unitid_f1t3  ...  pctdursp_salt75_f1t3  \\\n",
       "0  28.923732              1          125  ...                   0.0   \n",
       "1  23.908379              1          410  ...                   0.0   \n",
       "2  27.400682              1           55  ...                   0.0   \n",
       "3  21.136642              1           72  ...                   0.0   \n",
       "4  33.044366              1          123  ...                   0.0   \n",
       "\n",
       "   ahi_ap0nhp3x5x4nhp5x3n_f1t3  ahi_ap0nhp3x3n_f1t3  ahi_ap0nhp3x4n_f1t3  \\\n",
       "0                         0.00                 0.18                 0.00   \n",
       "1                         0.14                 0.14                 0.14   \n",
       "2                         0.66                 1.10                 0.66   \n",
       "3                         0.13                 0.13                 0.13   \n",
       "4                         0.35                 0.52                 0.00   \n",
       "\n",
       "   pctdursp_ap0n_f1t3  pctdursp_hp3x0n_f1t3  pctdursp_ap3nhp3x3n_f1t3  \\\n",
       "0                0.00                  0.07                      0.07   \n",
       "1                0.05                  2.65                      0.00   \n",
       "2                0.00                  3.93                      0.48   \n",
       "3                0.04                  0.78                      0.00   \n",
       "4                0.00                  2.17                      0.23   \n",
       "\n",
       "   maxdurap_hp3x0n_f1t3  avgdurhp_hp3x0n_f1t3  avgspo2baseline_f1t3  \n",
       "0                  15.0                 15.00               97.1967  \n",
       "1                  23.0                 12.18               95.5082  \n",
       "2                  37.0                 14.24               95.5246  \n",
       "3                  21.0                 13.19               97.0000  \n",
       "4                  60.0                 16.67               96.0984  \n",
       "\n",
       "[5 rows x 383 columns]"
      ]
     },
     "execution_count": 3,
     "metadata": {},
     "output_type": "execute_result"
    }
   ],
   "source": [
    "data_summary_visit1.head(n=5)"
   ]
  },
  {
   "cell_type": "code",
   "execution_count": 9,
   "metadata": {},
   "outputs": [],
   "source": [
    "id_visit1=data_summary_visit1.publicid\n",
    "temp_id=id_visit1.to_numpy()[0:200]"
   ]
  },
  {
   "cell_type": "code",
   "execution_count": 17,
   "metadata": {},
   "outputs": [],
   "source": [
    "anno_path_visit1='/data/0shared/linzenghui/numom2b/polysomnography/annotations-events-profusion/visit1/'\n",
    "edf_path_visit1='/data/0shared/linzenghui/numom2b/polysomnography/edfs/visit1/'"
   ]
  },
  {
   "cell_type": "code",
   "execution_count": 26,
   "metadata": {},
   "outputs": [],
   "source": [
    "data_path=edf_path_visit1+'numom2b-visit1-'+id_visit1[0]+'.edf'\n",
    "anno_path=anno_path_visit1+'numom2b-visit1-'+id_visit1[0]+'-profusion.xml'"
   ]
  },
  {
   "cell_type": "code",
   "execution_count": 24,
   "metadata": {},
   "outputs": [],
   "source": [
    "def get_ecg(data_path):\n",
    "    f = pyedflib.EdfReader(data_path)\n",
    "    ecg_data=f.readSignal(7)\n",
    "    f.close()\n",
    "    return ecg_data"
   ]
  },
  {
   "cell_type": "code",
   "execution_count": 20,
   "metadata": {},
   "outputs": [
    {
     "name": "stdout",
     "output_type": "stream",
     "text": [
      "文件名： /data/0shared/linzenghui/numom2b/polysomnography/edfs/visit1/numom2b-visit1-00001U.edf\n",
      "信号数： 12\n",
      "持续时间： 43210\n",
      "信号标签： ['snore', 'nas_pres', 'sum', 'pulse', 'spo2', 'position', 'activity', 'ECG', 'thorax', 'abdomen', 'pleth', 'DHR']\n",
      "信号采样频率： [ 10  50  50   3   3  10  10 200  50  50  75 200]\n"
     ]
    }
   ],
   "source": [
    "# 读取文件\n",
    "f = pyedflib.EdfReader(data_path)\n",
    "\n",
    "# 打印文件信息\n",
    "print(\"文件名：\", f.file_name)\n",
    "print(\"信号数：\", f.signals_in_file)\n",
    "print(\"持续时间：\", f.file_duration)\n",
    "\n",
    "# 打印信号信息\n",
    "signal_labels = f.getSignalLabels()\n",
    "print(\"信号标签：\", signal_labels)\n",
    "signal_freqs = f.getSampleFrequencies()\n",
    "print(\"信号采样频率：\", signal_freqs)\n",
    "\n",
    "# 读取信号数据\n",
    "signal_data = []\n",
    "for i in range(f.signals_in_file):\n",
    "    data = f.readSignal(i)\n",
    "    signal_data.append(data)\n",
    "\n",
    "# 关闭文件\n",
    "f.close()"
   ]
  },
  {
   "cell_type": "code",
   "execution_count": 28,
   "metadata": {},
   "outputs": [],
   "source": [
    "import xml.etree.ElementTree as ET\n",
    "\n",
    "tree = ET.parse(anno_path)\n",
    "\n",
    "root = tree.getroot()\n"
   ]
  },
  {
   "cell_type": "code",
   "execution_count": 37,
   "metadata": {},
   "outputs": [],
   "source": [
    "def get_wake_time(anno_path):\n",
    "    tree = ET.parse(anno_path)\n",
    "    root = tree.getroot()\n",
    "    stage_list=[]\n",
    "    count=0\n",
    "    for stage in root[4].findall('SleepStage'):\n",
    "        stage_list.append(stage.text)\n",
    "    for i in stage_list:\n",
    "        if i!='0':\n",
    "            break\n",
    "        else:\n",
    "            count+=1\n",
    "    return (count*30,len(stage_list)*30)"
   ]
  },
  {
   "cell_type": "code",
   "execution_count": 38,
   "metadata": {},
   "outputs": [
    {
     "data": {
      "text/plain": [
       "(12120, 43200)"
      ]
     },
     "execution_count": 38,
     "metadata": {},
     "output_type": "execute_result"
    }
   ],
   "source": [
    "get_wake_time(anno_path)"
   ]
  },
  {
   "cell_type": "code",
   "execution_count": 40,
   "metadata": {},
   "outputs": [
    {
     "data": {
      "text/plain": [
       "43210.0"
      ]
     },
     "execution_count": 40,
     "metadata": {},
     "output_type": "execute_result"
    }
   ],
   "source": [
    "8642000/(200)"
   ]
  },
  {
   "cell_type": "code",
   "execution_count": 39,
   "metadata": {},
   "outputs": [],
   "source": [
    "wake_data=ecg_data[0:12120*200]"
   ]
  },
  {
   "cell_type": "code",
   "execution_count": 10,
   "metadata": {},
   "outputs": [],
   "source": [
    "from numom2b_utils import *"
   ]
  },
  {
   "cell_type": "code",
   "execution_count": 11,
   "metadata": {},
   "outputs": [],
   "source": [
    "wake_list=[]\n",
    "for id in temp_id:\n",
    "    sec=len(get_wake_ecg(id))/200\n",
    "    wake_list.append(sec)"
   ]
  },
  {
   "cell_type": "code",
   "execution_count": null,
   "metadata": {},
   "outputs": [],
   "source": [
    "import matplotlib.pyplot as plt"
   ]
  },
  {
   "cell_type": "code",
   "execution_count": 16,
   "metadata": {},
   "outputs": [
    {
     "data": {
      "text/plain": [
       "<matplotlib.collections.PathCollection at 0x7f6cf891d7b0>"
      ]
     },
     "execution_count": 16,
     "metadata": {},
     "output_type": "execute_result"
    },
    {
     "data": {
      "image/png": "[encoded data removed]",
      "text/plain": [
       "<Figure size 640x480 with 1 Axes>"
      ]
     },
     "metadata": {},
     "output_type": "display_data"
    }
   ],
   "source": [
    "x=np.arange(0,200,1)\n",
    "plt.scatter(x,np.array(sorted(wake_list))/60)"
   ]
  },
  {
   "cell_type": "code",
   "execution_count": 17,
   "metadata": {},
   "outputs": [],
   "source": [
    "minte=np.array(sorted(wake_list))/60"
   ]
  },
  {
   "cell_type": "code",
   "execution_count": 19,
   "metadata": {},
   "outputs": [
    {
     "data": {
      "text/plain": [
       "<matplotlib.collections.PathCollection at 0x7f6cf8988760>"
      ]
     },
     "execution_count": 19,
     "metadata": {},
     "output_type": "execute_result"
    },
    {
     "data": {
      "image/png": "[encoded data removed]",
      "text/plain": [
       "<Figure size 640x480 with 1 Axes>"
      ]
     },
     "metadata": {},
     "output_type": "display_data"
    }
   ],
   "source": [
    "plt.scatter(np.arange(0,50,1),minte[0:50])\n",
    "##可以看到最小的片段也有13分钟，可以说数据量是相当宽裕的"
   ]
  }
 ],
 "metadata": {
  "kernelspec": {
   "display_name": "ECG_torch",
   "language": "python",
   "name": "python3"
  },
  "language_info": {
   "codemirror_mode": {
    "name": "ipython",
    "version": 3
   },
   "file_extension": ".py",
   "mimetype": "text/x-python",
   "name": "python",
   "nbconvert_exporter": "python",
   "pygments_lexer": "ipython3",
   "version": "3.10.10"
  },
  "orig_nbformat": 4
 },
 "nbformat": 4,
 "nbformat_minor": 2
}
