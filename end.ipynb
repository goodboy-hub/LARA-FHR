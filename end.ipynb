{
 "cells": [
  {
   "cell_type": "code",
   "execution_count": 1,
   "metadata": {},
   "outputs": [],
   "source": [
    "from utils import *\n",
    "from net1d import *\n",
    "from torch import nn\n",
    "from tqdm import tqdm\n",
    "import numpy as np\n",
    "from torchsummary.torchsummary import summary\n",
    "\n",
    "import matplotlib.pyplot as plt\n",
    "from sklearn import metrics\n",
    "import numpy as np\n",
    "import pandas as pd\n",
    "from sklearn.metrics import classification_report, confusion_matrix,roc_auc_score,roc_curve"
   ]
  },
  {
   "cell_type": "code",
   "execution_count": 2,
   "metadata": {},
   "outputs": [],
   "source": [
    "taixin_model=torch.load('/data/0shared/linzenghui/tai_resampled_model_004.pth')"
   ]
  },
  {
   "cell_type": "code",
   "execution_count": 3,
   "metadata": {},
   "outputs": [
    {
     "name": "stdout",
     "output_type": "stream",
     "text": [
      "tensor(3.5135, device='cuda:0')\n"
     ]
    }
   ],
   "source": [
    "##这是检验集的loss\n",
    "val_dataset=taixin_resampled_data([8,1,1],mode='val')\n",
    "val_iter=DataLoader(val_dataset,batch_size=32,shuffle=False)\n",
    "pro=torch.tensor([]).to('cuda')\n",
    "true_y=torch.tensor([])\n",
    "taixin_model.eval()##好好好好好好\n",
    "loss=0\n",
    "with torch.no_grad():\n",
    "    for val_x,val_y in val_iter:\n",
    "        val_x=torch.tensor(np.expand_dims(val_x,1)).to('cuda',torch.float32)\n",
    "        tie_y=torch.tensor(np.expand_dims(np.array(val_y<=3),1)).to('cuda',torch.float32)\n",
    "        # val_y=val_y.add(-1).to('cuda').long()\n",
    "        y_hat=torch.sigmoid(taixin_model(val_x))\n",
    "        loss+=nn.BCELoss()(y_hat,tie_y)\n",
    "        pro=torch.cat((pro,y_hat))\n",
    "        true_y=torch.cat((true_y,val_y))\n",
    "print(loss/len(val_iter))##过拟合问题还是比较严峻的"
   ]
  },
  {
   "cell_type": "code",
   "execution_count": 4,
   "metadata": {},
   "outputs": [
    {
     "data": {
      "text/plain": [
       "Counter({149.0: 86,\n",
       "         150.0: 58,\n",
       "         152.0: 92,\n",
       "         153.0: 62,\n",
       "         154.0: 100,\n",
       "         158.0: 92,\n",
       "         159.0: 110,\n",
       "         164.0: 102,\n",
       "         165.0: 34,\n",
       "         166.0: 62,\n",
       "         135.0: 11,\n",
       "         136.0: 11,\n",
       "         142.0: 66,\n",
       "         143.0: 22,\n",
       "         144.0: 11,\n",
       "         145.0: 33,\n",
       "         146.0: 99})"
      ]
     },
     "execution_count": 4,
     "metadata": {},
     "output_type": "execute_result"
    }
   ],
   "source": [
    "info=val_dataset.get_info()\n",
    "Counter(info[:,0])"
   ]
  }
 ],
 "metadata": {
  "kernelspec": {
   "display_name": "py_torch",
   "language": "python",
   "name": "python3"
  },
  "language_info": {
   "codemirror_mode": {
    "name": "ipython",
    "version": 3
   },
   "file_extension": ".py",
   "mimetype": "text/x-python",
   "name": "python",
   "nbconvert_exporter": "python",
   "pygments_lexer": "ipython3",
   "version": "3.10.10"
  },
  "orig_nbformat": 4
 },
 "nbformat": 4,
 "nbformat_minor": 2
}
